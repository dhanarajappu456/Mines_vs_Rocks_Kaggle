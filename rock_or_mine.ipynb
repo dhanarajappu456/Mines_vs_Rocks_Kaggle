{
  "nbformat": 4,
  "nbformat_minor": 0,
  "metadata": {
    "colab": {
      "name": "rock_or_mine.ipynb",
      "provenance": [],
      "authorship_tag": "ABX9TyO/iEcECg9eDws2NNxGeU6j",
      "include_colab_link": true
    },
    "kernelspec": {
      "name": "python3",
      "display_name": "Python 3"
    },
    "language_info": {
      "name": "python"
    }
  },
  "cells": [
    {
      "cell_type": "markdown",
      "metadata": {
        "id": "view-in-github",
        "colab_type": "text"
      },
      "source": [
        "<a href=\"https://colab.research.google.com/github/dhanarajappu456/Mines_vs_Rocks_Kaggle/blob/main/rock_or_mine.ipynb\" target=\"_parent\"><img src=\"https://colab.research.google.com/assets/colab-badge.svg\" alt=\"Open In Colab\"/></a>"
      ]
    },
    {
      "cell_type": "code",
      "metadata": {
        "id": "QnvqIJlnmjCG"
      },
      "source": [
        "import tensorflow.compat.v1 as tf\n",
        "tf.disable_v2_behavior()\n",
        "import matplotlib.pyplot as plt\n",
        "import numpy as np\n",
        "import pandas as pd\n",
        "from sklearn.preprocessing import LabelEncoder,OneHotEncoder\n",
        "from sklearn.utils import shuffle \n",
        "from sklearn.model_selection import train_test_split\n",
        "\n",
        "\n",
        "def reader():\n",
        "  df=pd.read_csv(\"sonar.csv\") \n",
        "  x=df[df.columns[0:60]].values\n",
        "  y=df[df.columns[-1]]\n",
        "  print(type(y))\n",
        "  encoder =LabelEncoder()\n",
        "  y=encoder.fit_transform(y)\n",
        "  return(x,y)\n",
        "  \n",
        " # print(x.shape)\n",
        "  print(y)\n",
        "def one_hot_encoder(label): \n",
        "  no_of_records=len(label)\n",
        "  no_of_unique_label=np.unique(label)\n",
        "  one_hot_matrix=np.zeros([len(y),len(np.unique(y))])\n",
        "  one_hot_matrix[np.arange(no_of_records),label]=1\n",
        "  #print(inter_)\n",
        "x,y=reader()\n",
        "x,y=shuffle(x,y,random_state=1)\n",
        "print(x,y)\n",
        "\n",
        " "
      ],
      "execution_count": null,
      "outputs": []
    },
    {
      "cell_type": "code",
      "metadata": {
        "id": "b5OWWnwElBV-"
      },
      "source": [
        ""
      ],
      "execution_count": null,
      "outputs": []
    }
  ]
}